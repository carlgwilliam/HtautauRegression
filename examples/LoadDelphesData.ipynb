{
 "cells": [
  {
   "cell_type": "markdown",
   "id": "96b5b11a-518e-4743-ad70-e9ab68a22ea3",
   "metadata": {},
   "source": [
    "# Delphes Samples\n",
    "\n",
    "## Import modules"
   ]
  },
  {
   "cell_type": "code",
   "execution_count": null,
   "id": "d051fc97-0123-495b-93c2-4b56c1c75563",
   "metadata": {
    "tags": []
   },
   "outputs": [],
   "source": [
    "from glob import glob\n",
    "import numpy as np\n",
    "import pandas as pd\n",
    "import matplotlib.pyplot as plt"
   ]
  },
  {
   "cell_type": "code",
   "execution_count": null,
   "id": "8a98e82c-241a-4f5c-9b5b-720bcb0f1117",
   "metadata": {},
   "outputs": [],
   "source": [
    "from HtautauRegression.dataset import H5Dataset\n",
    "from HtautauRegression.helpers import plot_mass, find_indices, find_sample_number, make_four_vector"
   ]
  },
  {
   "cell_type": "markdown",
   "id": "fedf62f8-71e2-4b88-8816-42dc2ddabc78",
   "metadata": {},
   "source": [
    "## Load samples\n",
    "\n",
    "This is done using the `H5Dataset` class. \n",
    "Have both lephad decays and hadhad decays available "
   ]
  },
  {
   "cell_type": "code",
   "execution_count": null,
   "id": "6f90705e-6b87-4e2c-a942-2f1469c69177",
   "metadata": {
    "tags": []
   },
   "outputs": [],
   "source": [
    "dname = \"/bundle/data/ATLAS/gwilliam/ProjectSamples/h5/Delphes\"\n",
    "#lhsamples = sorted(glob(f\"{dname}/LepHad/*lephad.h5\"))\n",
    "hhsamples = sorted(glob(f\"{dname}/HadHad/*hadhad.h5\"))\n",
    "data = H5Dataset(hhsamples, target_name = \"Mtautau\") "
   ]
  },
  {
   "cell_type": "markdown",
   "id": "5f11035c-5509-4d8d-b7fe-fd35abe2eeba",
   "metadata": {},
   "source": [
    "### Explore dataset\n",
    "\n",
    "List of input feature names"
   ]
  },
  {
   "cell_type": "code",
   "execution_count": null,
   "id": "bb4bc3b7-18a5-4dd0-85b6-82a0fd313ac0",
   "metadata": {
    "tags": []
   },
   "outputs": [],
   "source": [
    "print(data.feature_names)"
   ]
  },
  {
   "cell_type": "markdown",
   "id": "24c2dd7e-7251-46c2-acb5-87b4ceb28ebd",
   "metadata": {},
   "source": [
    "Input data, consisting of one row per event, each with the different features as columns"
   ]
  },
  {
   "cell_type": "code",
   "execution_count": null,
   "id": "f820be19-1c6d-4681-bc95-f117a9e96ff5",
   "metadata": {
    "tags": []
   },
   "outputs": [],
   "source": [
    "X = data.X()\n",
    "print(X.shape)\n",
    "X"
   ]
  },
  {
   "cell_type": "markdown",
   "id": "173d8ed2-3b3c-45c4-b47e-df3f4de47284",
   "metadata": {},
   "source": [
    "Plot an example e.g. $p_T$ of the first tau, using the index to get hte correct feature for all events (:)"
   ]
  },
  {
   "cell_type": "code",
   "execution_count": null,
   "id": "dcf99987-cfbe-4819-88af-fa92111e5c32",
   "metadata": {
    "tags": []
   },
   "outputs": [],
   "source": [
    "itau1pt = data.feature_names.index(\"Tau1_Pt\")\n",
    "\n",
    "plt.figure()\n",
    "plt.title(\"Distribution of first input feature\")\n",
    "plt.xlabel(r\"$p_T (\\tau_1)$ [GeV]\")\n",
    "plt.ylabel(\"Arbitrary Units\")\n",
    "plt.hist(X[:, itau1pt], bins = np.linspace(0, 1500, 25), fill = None, \n",
    "         histtype = \"step\", density = True)\n",
    "plt.yscale('log')\n",
    "plt.show()"
   ]
  },
  {
   "cell_type": "markdown",
   "id": "e3dcb843-4309-4b63-871e-ec4dd3f23611",
   "metadata": {},
   "source": [
    "Output target mass for all samples"
   ]
  },
  {
   "cell_type": "code",
   "execution_count": null,
   "id": "eeb51428-5fd7-4d71-8615-5c69371e27f8",
   "metadata": {
    "tags": []
   },
   "outputs": [],
   "source": [
    "y = data.y()\n",
    "print (y.shape)\n",
    "y"
   ]
  },
  {
   "cell_type": "markdown",
   "id": "045f408d-af1b-4056-ab65-b470b2fe373b",
   "metadata": {},
   "source": [
    "Plot this to see it covers a wide range of masses to avoid biasing "
   ]
  },
  {
   "cell_type": "code",
   "execution_count": null,
   "id": "814ffc91-9569-466b-bdaf-c3afac34a91f",
   "metadata": {
    "tags": []
   },
   "outputs": [],
   "source": [
    "plt.figure()\n",
    "plt.title(\"Distribution of output masses for all samples\")\n",
    "plt.xlabel(r\"$m_{\\tau\\tau}$ [GeV]\")\n",
    "plt.ylabel(\"Arbitrary Units\")\n",
    "plt.hist(y, bins = np.linspace(50, 350, 60), fill = None, \n",
    "         histtype = \"step\", density = True)\n",
    "plt.show()"
   ]
  },
  {
   "cell_type": "markdown",
   "id": "b30a9a94-e994-43cb-80e2-16d48fa43a01",
   "metadata": {},
   "source": [
    "Auxilary data, including a label for the individual samples and the ATLAS MMC and CMS SVFIt to compare to "
   ]
  },
  {
   "cell_type": "code",
   "execution_count": null,
   "id": "83e44c0b-91f0-4376-a736-00557273853c",
   "metadata": {
    "tags": []
   },
   "outputs": [],
   "source": [
    "print(data.aux_labels())\n",
    "isvf = data.aux_labels().index(\"MSVFit\")\n",
    "immc = data.aux_labels().index(\"MMMC\")\n",
    "aux = data.aux()\n",
    "aux"
   ]
  },
  {
   "cell_type": "markdown",
   "id": "5bdb9825-2ca2-4d7d-a2b6-1adf8efb8350",
   "metadata": {},
   "source": [
    "Create the four-vectors for the two taus using the helper functions to get just the 125 GeV data and create the four vectors. Add them to get the HH four-vector"
   ]
  },
  {
   "cell_type": "code",
   "execution_count": null,
   "id": "9b26e656-2c88-40cd-b448-d1078051c0a8",
   "metadata": {},
   "outputs": [],
   "source": [
    "i125 = find_indices(hhsamples, aux, data.aux_labels(), \"125\")\n",
    "\n",
    "tau1 = make_four_vector(\"Tau1\", data, i125)\n",
    "tau2 = make_four_vector(\"Tau2\", data, i125)\n",
    "hh = tau1 + tau2"
   ]
  },
  {
   "cell_type": "markdown",
   "id": "8eb2158c-1982-4bbd-af08-4bda004b15a8",
   "metadata": {},
   "source": [
    "Plot the visible mass vs the truth mass, where you can see that it peaks below 125 GeV due to the energy lost via the neutrinos and is broad.  "
   ]
  },
  {
   "cell_type": "code",
   "execution_count": null,
   "id": "486fbfc6-0b6d-4c83-89f6-d3fbae861aac",
   "metadata": {
    "tags": []
   },
   "outputs": [],
   "source": [
    "plot_mass(None, mtrue=y[i125], mvis = hh.mass, \n",
    "          title = \"Mass (125 GeV)\", bins=np.linspace(100, 200, 50), true_scale = 0.1)"
   ]
  },
  {
   "cell_type": "markdown",
   "id": "58e771ed-97a0-4814-a56e-1f47a55f8578",
   "metadata": {},
   "source": [
    "ATLAS and CMS have both created algorithms to try to correct for the energy loss due to neutrinos.  Let's plot these as well"
   ]
  },
  {
   "cell_type": "code",
   "execution_count": null,
   "id": "a47db029-538c-4874-a292-53c41594750a",
   "metadata": {},
   "outputs": [],
   "source": [
    "plot_mass(None, mtrue=y[i125], mvis=hh.mass, mmmc = aux[i125, immc], msv = aux[i125, isvf],\n",
    "          title = \"Mass (125 GeV)\", bins=np.linspace(100, 200, 50), true_scale = 0.1)"
   ]
  },
  {
   "cell_type": "markdown",
   "id": "06a8f13a-00e7-431a-babc-d5b20005fe68",
   "metadata": {},
   "source": [
    "You can see that they correct the position but still don't have a very good resolution.  The aim of this project is to train an MVA to do better at reconstructing the mass."
   ]
  },
  {
   "cell_type": "markdown",
   "id": "67d0c4d8-f817-4d81-b436-01b3b98ea6f4",
   "metadata": {},
   "source": [
    "### Get individual data events\n",
    "Data for first event"
   ]
  },
  {
   "cell_type": "code",
   "execution_count": null,
   "id": "b5a8230f-a29b-4f94-bb99-dc711375859f",
   "metadata": {
    "tags": []
   },
   "outputs": [],
   "source": [
    "X0, y0 = data[0]\n",
    "print(X0)\n",
    "print(y0)"
   ]
  }
 ],
 "metadata": {
  "kernelspec": {
   "display_name": "Python 3 (ipykernel)",
   "language": "python",
   "name": "python3"
  },
  "language_info": {
   "codemirror_mode": {
    "name": "ipython",
    "version": 3
   },
   "file_extension": ".py",
   "mimetype": "text/x-python",
   "name": "python",
   "nbconvert_exporter": "python",
   "pygments_lexer": "ipython3",
   "version": "3.10.15"
  }
 },
 "nbformat": 4,
 "nbformat_minor": 5
}
