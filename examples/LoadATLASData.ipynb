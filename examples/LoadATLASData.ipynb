{
 "cells": [
  {
   "cell_type": "markdown",
   "id": "96b5b11a-518e-4743-ad70-e9ab68a22ea3",
   "metadata": {},
   "source": [
    "# ATLAS Samples\n",
    "\n",
    "## Import modules"
   ]
  },
  {
   "cell_type": "code",
   "execution_count": null,
   "id": "d051fc97-0123-495b-93c2-4b56c1c75563",
   "metadata": {
    "tags": []
   },
   "outputs": [],
   "source": [
    "from glob import glob\n",
    "import numpy as np\n",
    "import pandas as pd\n",
    "import matplotlib.pyplot as plt"
   ]
  },
  {
   "cell_type": "code",
   "execution_count": null,
   "id": "95c22df4-75c9-4883-9b5f-4536646cbed4",
   "metadata": {},
   "outputs": [],
   "source": [
    "from HtautauRegression.dataset import H5Dataset\n",
    "from HtautauRegression.helpers import plot_mass, find_indices, find_sample_number"
   ]
  },
  {
   "cell_type": "markdown",
   "id": "fedf62f8-71e2-4b88-8816-42dc2ddabc78",
   "metadata": {},
   "source": [
    "## Load samples\n",
    "\n",
    "Have both lephad decays and hadhad decays available "
   ]
  },
  {
   "cell_type": "code",
   "execution_count": null,
   "id": "6f90705e-6b87-4e2c-a942-2f1469c69177",
   "metadata": {
    "tags": []
   },
   "outputs": [],
   "source": [
    "region = \"HadHad\"\n",
    "#dname = f\"ProjectSamples/{region}\"\n",
    "dname = f\"/bundle/data/ATLAS/gwilliam/ProjectSamples/h5/ATLAS/{region}\"\n",
    "samples = [f\"{dname}/hadhad_V5.h5\", f\"{dname}/ttbar_nonallhad_V5.h5\", f\"{dname}/zjets_V5.h5\", f\"{dname}/ttbar_dilep_V5.h5\"]\n",
    "data = H5Dataset(samples, target_name = \"Mtautau\") #, size = 25000)"
   ]
  },
  {
   "cell_type": "markdown",
   "id": "5f11035c-5509-4d8d-b7fe-fd35abe2eeba",
   "metadata": {},
   "source": [
    "### Explore dataset\n",
    "\n",
    "List of input feature names"
   ]
  },
  {
   "cell_type": "code",
   "execution_count": null,
   "id": "bb4bc3b7-18a5-4dd0-85b6-82a0fd313ac0",
   "metadata": {
    "tags": []
   },
   "outputs": [],
   "source": [
    "print(data.feature_names)"
   ]
  },
  {
   "cell_type": "markdown",
   "id": "24c2dd7e-7251-46c2-acb5-87b4ceb28ebd",
   "metadata": {},
   "source": [
    "Input data"
   ]
  },
  {
   "cell_type": "code",
   "execution_count": null,
   "id": "f820be19-1c6d-4681-bc95-f117a9e96ff5",
   "metadata": {
    "tags": []
   },
   "outputs": [],
   "source": [
    "X = data.X()\n",
    "print(X.shape)\n",
    "X"
   ]
  },
  {
   "cell_type": "code",
   "execution_count": null,
   "id": "dcf99987-cfbe-4819-88af-fa92111e5c32",
   "metadata": {
    "tags": []
   },
   "outputs": [],
   "source": [
    "itau1pt = data.feature_names.index(\"Tau1_Pt\")\n",
    "\n",
    "plt.figure()\n",
    "plt.title(\"Distribution of first input feature\")\n",
    "plt.xlabel(r\"$p_T (\\tau_1)$ [GeV]\")\n",
    "plt.ylabel(\"Arbitrary Units\")\n",
    "plt.hist(X[:, itau1pt], bins = np.linspace(0, 2000, 25), fill = None, \n",
    "         histtype = \"step\", density = True)\n",
    "plt.yscale('log')\n",
    "plt.show()"
   ]
  },
  {
   "cell_type": "markdown",
   "id": "e3dcb843-4309-4b63-871e-ec4dd3f23611",
   "metadata": {},
   "source": [
    "Output target mass for all samples"
   ]
  },
  {
   "cell_type": "code",
   "execution_count": null,
   "id": "eeb51428-5fd7-4d71-8615-5c69371e27f8",
   "metadata": {
    "tags": []
   },
   "outputs": [],
   "source": [
    "y = data.y()\n",
    "print (y.shape)\n",
    "y"
   ]
  },
  {
   "cell_type": "code",
   "execution_count": null,
   "id": "814ffc91-9569-466b-bdaf-c3afac34a91f",
   "metadata": {
    "tags": []
   },
   "outputs": [],
   "source": [
    "plt.figure()\n",
    "plt.title(\"Distribution of output masses for all samples\")\n",
    "plt.xlabel(r\"$m_{\\tau\\tau}$ [GeV]\")\n",
    "plt.ylabel(\"Arbitrary Units\")\n",
    "plt.hist(y, bins = np.linspace(0, 4000, 60), fill = None, \n",
    "         histtype = \"step\", density = True)\n",
    "plt.yscale('log')\n",
    "plt.show()"
   ]
  },
  {
   "cell_type": "markdown",
   "id": "b30a9a94-e994-43cb-80e2-16d48fa43a01",
   "metadata": {},
   "source": [
    "Auxilary data, including a label for the individual samples and the ATLAS MMC and CMS SVFIt to compare to "
   ]
  },
  {
   "cell_type": "code",
   "execution_count": null,
   "id": "83e44c0b-91f0-4376-a736-00557273853c",
   "metadata": {
    "tags": []
   },
   "outputs": [],
   "source": [
    "print(data.aux_labels())\n",
    "immc = data.aux_labels().index(\"MMMC\")\n",
    "immcstat = data.aux_labels().index(\"MMCStatus\")\n",
    "isample = data.aux_labels().index(\"sample\")\n",
    "aux = data.aux()\n",
    "aux"
   ]
  },
  {
   "cell_type": "markdown",
   "id": "8eb2158c-1982-4bbd-af08-4bda004b15a8",
   "metadata": {},
   "source": [
    "Plot the ATLAS and CMS masses versus the truth for one mass sample"
   ]
  },
  {
   "cell_type": "code",
   "execution_count": null,
   "id": "486fbfc6-0b6d-4c83-89f6-d3fbae861aac",
   "metadata": {
    "tags": []
   },
   "outputs": [],
   "source": [
    "ihh = find_indices(samples, aux, data.aux_labels(), \"hadhad\")\n",
    "\n",
    "plot_mass(None, aux[ihh, immc], mtrue=y[ihh], \n",
    "          title = \"Mass (train, 125 GeV)\", bins=np.linspace(50, 200, 75), true_scale = 0.1)"
   ]
  },
  {
   "cell_type": "markdown",
   "id": "67d0c4d8-f817-4d81-b436-01b3b98ea6f4",
   "metadata": {},
   "source": [
    "### Get individual data events\n",
    "Data for first event"
   ]
  },
  {
   "cell_type": "code",
   "execution_count": null,
   "id": "b5a8230f-a29b-4f94-bb99-dc711375859f",
   "metadata": {
    "tags": []
   },
   "outputs": [],
   "source": [
    "X0, y0 = data[0]\n",
    "print(X0)\n",
    "print(y0)"
   ]
  }
 ],
 "metadata": {
  "kernelspec": {
   "display_name": "Python 3 (ipykernel)",
   "language": "python",
   "name": "python3"
  },
  "language_info": {
   "codemirror_mode": {
    "name": "ipython",
    "version": 3
   },
   "file_extension": ".py",
   "mimetype": "text/x-python",
   "name": "python",
   "nbconvert_exporter": "python",
   "pygments_lexer": "ipython3",
   "version": "3.10.15"
  }
 },
 "nbformat": 4,
 "nbformat_minor": 5
}
